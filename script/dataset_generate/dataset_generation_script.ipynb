{
 "cells": [
  {
   "cell_type": "code",
   "execution_count": null,
   "metadata": {},
   "outputs": [],
   "source": [
    "from finding_na_protein_pairs import *\n",
    "from reverse_translate import reverse_translate"
   ]
  },
  {
   "cell_type": "code",
   "execution_count": null,
   "metadata": {},
   "outputs": [],
   "source": [
    "fasta_file = \"/Users/dingsongting/VscodeProjects/Prediction-of-Non-coding-RNA-Cleavage-Sites-/script/pdb_seqres.txt\"\n",
    "data_dict = build_dictionary_from_fasta(fasta_file)\n",
    "\n",
    "pairs_id = find_na_protein_pairs_id(data_dict)\n",
    "data_pairs_data={i:data_dict[i] for i in pairs_id}\n",
    "\n",
    "protein_only_id = find_protein_only_id(data_dict)\n",
    "protein_only_data = {i:data_dict[i] for i in protein_only_id}"
   ]
  },
  {
   "cell_type": "code",
   "execution_count": null,
   "metadata": {},
   "outputs": [],
   "source": [
    "Negetive_set =[]\n",
    "for i,(j,k) in enumerate(protein_only_data.items()):\n",
    "    for w in k['protein']:\n",
    "        Negetive_set.append(reverse_translate(w))\n",
    "print(len(Negetive_set))\n",
    "json_write_back(Negetive_set,filename='Negetive_set.json')"
   ]
  },
  {
   "cell_type": "code",
   "execution_count": null,
   "metadata": {},
   "outputs": [],
   "source": []
  },
  {
   "cell_type": "code",
   "execution_count": null,
   "metadata": {},
   "outputs": [],
   "source": []
  }
 ],
 "metadata": {
  "kernelspec": {
   "display_name": "RNAInverseFolding",
   "language": "python",
   "name": "python3"
  },
  "language_info": {
   "codemirror_mode": {
    "name": "ipython",
    "version": 3
   },
   "file_extension": ".py",
   "mimetype": "text/x-python",
   "name": "python",
   "nbconvert_exporter": "python",
   "pygments_lexer": "ipython3",
   "version": "3.11.5"
  }
 },
 "nbformat": 4,
 "nbformat_minor": 2
}
