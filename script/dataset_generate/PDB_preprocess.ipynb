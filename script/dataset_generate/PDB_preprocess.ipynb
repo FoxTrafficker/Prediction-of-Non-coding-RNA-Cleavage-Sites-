{
 "cells": [
  {
   "cell_type": "code",
   "execution_count": 53,
   "metadata": {},
   "outputs": [],
   "source": [
    "import os \n",
    "from Bio.PDB import PDBParser, PPBuilder, is_nucleic, is_aa\n",
    "from Bio.Data.IUPACData import protein_letters_3to1_extended\n",
    "import warnings \n",
    "import json\n",
    "import random\n",
    "import numpy as np\n",
    "\n",
    "warnings.filterwarnings(\"ignore\")\n",
    "root_dir = '.'"
   ]
  },
  {
   "cell_type": "code",
   "execution_count": 3,
   "metadata": {},
   "outputs": [],
   "source": [
    "amino_acids = {\n",
    "    'ALA': 'A', 'ARG': 'R', 'ASN': 'N', 'ASP': 'D', 'CYS': 'C',\n",
    "    'GLU': 'E', 'GLN': 'Q', 'GLY': 'G', 'HIS': 'H', 'ILE': 'I',\n",
    "    'LEU': 'L', 'LYS': 'K', 'MET': 'M', 'PHE': 'F', 'PRO': 'P',\n",
    "    'SER': 'S', 'THR': 'T', 'TRP': 'W', 'TYR': 'Y', 'VAL': 'V'\n",
    "}\n",
    "\n",
    "nucleotides = {\n",
    "    'DA': 'A', 'DC': 'C', 'DG': 'G', 'DU': 'U', 'DT': 'T'\n",
    "}\n",
    "\n",
    "def extract_seq(pdb_file_path):\n",
    "    prot_dict = {}\n",
    "    prot_sequence = ''\n",
    "    rna_sequence = ''\n",
    "    rna_dict = {}\n",
    "    res_num = 0\n",
    "    res_count = 0    \n",
    "\n",
    "    with open(pdb_file_path, 'r') as file:\n",
    "        for line in file:\n",
    "            if line[:4]==(\"ATOM\"):\n",
    "                residue_name = line[17:20].strip()\n",
    "                atom_name = line[12:16].strip()\n",
    "                res_num = int(line[22:26].strip())\n",
    "                chain_id = line[21:22].strip()\n",
    "                if atom_name == \"O5'\":\n",
    "                    rna_sequence += residue_name\n",
    "                elif atom_name == \"CA\":\n",
    "                    res_count += 1\n",
    "\n",
    "                    if  not res_num == res_count:\n",
    "                        gap = res_num - res_count\n",
    "                        #print(\"Gap in chain %s between residues %d and %d\" % (chain_id, res_count, res_num))\n",
    "                        prot_sequence += '-' * (gap)\n",
    "                        pass\n",
    "                    if is_aa(residue_name):\n",
    "                        prot_sequence += amino_acids[residue_name]\n",
    "                    res_count = res_num\n",
    "\n",
    "            elif line[:3] == 'TER':\n",
    "                if len(rna_sequence) > 0:\n",
    "                    rna_dict[chain_id] = rna_sequence.replace('D', '')\n",
    "                    rna_sequence = ''\n",
    "                elif len(prot_sequence) > 0:\n",
    "                    prot_dict[chain_id] = prot_sequence\n",
    "                    prot_sequence = ''\n",
    "                res_count = 0\n",
    "                pass\n",
    "\n",
    "        if len(rna_sequence) > 0:\n",
    "            rna_dict[chain_id] = rna_sequence.replace('D', '')\n",
    "        if len(prot_sequence) > 0:\n",
    "            prot_dict[chain_id] = prot_sequence\n",
    "\n",
    "\n",
    "    return rna_dict, prot_dict"
   ]
  },
  {
   "cell_type": "code",
   "execution_count": 3,
   "metadata": {},
   "outputs": [],
   "source": [
    "def extract_binding_site(PDB_file):\n",
    "    pass\n",
    "def vectorize(site_list):\n",
    "    pass"
   ]
  },
  {
   "cell_type": "code",
   "execution_count": 44,
   "metadata": {},
   "outputs": [],
   "source": [
    "codon_table = {\n",
    "    'A': ['GCU', 'GCC', 'GCA', 'GCG'],        # Alanine\n",
    "    'R': ['CGU', 'CGC', 'CGA', 'CGG', 'AGA', 'AGG'],  # Arginine\n",
    "    'N': ['AAU', 'AAC'],                      # Asparagine\n",
    "    'D': ['GAU', 'GAC'],                      # Aspartic Acid\n",
    "    'C': ['UGU', 'UGC'],                      # Cysteine\n",
    "    'Q': ['CAA', 'CAG'],                      # Glutamine\n",
    "    'E': ['GAA', 'GAG'],                      # Glutamic Acid\n",
    "    'G': ['GGU', 'GGC', 'GGA', 'GGG'],        # Glycine\n",
    "    'H': ['CAU', 'CAC'],                      # Histidine\n",
    "    'I': ['AUU', 'AUC', 'AUA'],               # Isoleucine\n",
    "    'L': ['UUA', 'UUG', 'CUU', 'CUC', 'CUA', 'CUG'],  # Leucine\n",
    "    'K': ['AAA', 'AAG'],                      # Lysine\n",
    "    'M': ['AUG'],                             # Methionine (Start Codon)\n",
    "    'F': ['UUU', 'UUC'],                      # Phenylalanine\n",
    "    'P': ['CCU', 'CCC', 'CCA', 'CCG'],        # Proline\n",
    "    'S': ['UCU', 'UCC', 'UCA', 'UCG', 'AGU', 'AGC'],  # Serine\n",
    "    'T': ['ACU', 'ACC', 'ACA', 'ACG'],        # Threonine\n",
    "    'W': ['UGG'],                             # Tryptophan\n",
    "    'Y': ['UAU', 'UAC'],                      # Tyrosine\n",
    "    'V': ['GUU', 'GUC', 'GUA', 'GUG'],        # Valine\n",
    "    # Stop codons\n",
    "    '*': ['UAA', 'UAG', 'UGA']                # Stop (Termination)\n",
    "}\n",
    "\n",
    "def reverse_translate(protein_sequence):\n",
    "    # Genetic code mapping amino acids to codons\n",
    "    # This uses one codon per amino acid for simplicity\n",
    "    rna_sequence = ''\n",
    "    for amino_acid in protein_sequence:\n",
    "        if amino_acid in codon_table:\n",
    "            index = random.randint(0, len(codon_table[amino_acid])-1)\n",
    "            rna_sequence += codon_table[amino_acid][index]\n",
    "        elif amino_acid == '-': # gap record in PDB file, skip\n",
    "            continue\n",
    "        else:\n",
    "            print(f\"Warning: Amino acid '{amino_acid}' not recognized. Skipping.\")\n",
    "            # Optionally, add a placeholder or error handling here\n",
    "    return rna_sequence"
   ]
  },
  {
   "cell_type": "code",
   "execution_count": 37,
   "metadata": {},
   "outputs": [],
   "source": [
    "import random\n",
    "\n",
    "def random_substring(s, L, sample_size=1):\n",
    "    \"\"\"\n",
    "    Generate a random substring of length L from the given string s.\n",
    "\n",
    "    :param s: The original string.\n",
    "    :param L: The length of the substring to be generated.\n",
    "    :return: A random substring of length L.\n",
    "    \"\"\"\n",
    "    seq_list = []\n",
    "    for _ in range(sample_size):\n",
    "        if L > len(s):\n",
    "            raise ValueError(\"Length L is longer than the string length.\")\n",
    "        \n",
    "        start_index = random.randint(0, len(s) - L)\n",
    "        seq_list.append(s[start_index:start_index + L])\n",
    "    return seq_list"
   ]
  },
  {
   "cell_type": "code",
   "execution_count": 132,
   "metadata": {},
   "outputs": [
    {
     "name": "stdout",
     "output_type": "stream",
     "text": [
      "items in RNA dataset:  3506\n",
      "items in DNA dataset:  7611\n",
      "items in prot dataset:  10890\n",
      "RNA count:  6223\n",
      "DNA count:  18846\n",
      "prot count:  54348\n"
     ]
    }
   ],
   "source": [
    "## extract DNA/RNA/protein sequence from PDB file ##\n",
    "\n",
    "PDB_dir = root_dir + '/PDB'\n",
    "\n",
    "RNA_dataset = {}\n",
    "DNA_dataset = {}\n",
    "prot_dataset = {}\n",
    "for file in os.listdir(PDB_dir):\n",
    "    nucleic_dict = {}\n",
    "    prot_dict = {}\n",
    "    if file.endswith('.pdb'):\n",
    "        try:\n",
    "            pdb_file_path = os.path.join(PDB_dir, file)\n",
    "            nucleic_dict, prot_dict = extract_seq(pdb_file_path)\n",
    "        except Exception as e:\n",
    "            print(e, file)\n",
    "            continue\n",
    "\n",
    "        for key, seq in nucleic_dict.items():\n",
    "            if 'T' in seq:\n",
    "                if file not in DNA_dataset:\n",
    "                    DNA_dataset[file] = {}\n",
    "                DNA_dataset[file][key] = seq\n",
    "            elif 'U' in seq:\n",
    "                if file not in RNA_dataset:\n",
    "                    RNA_dataset[file] = {}\n",
    "                RNA_dataset[file][key] = seq\n",
    "            prot_dataset[file] = prot_dict \n",
    "    #break\n",
    "\n",
    "print('items in RNA dataset: ', len(RNA_dataset.keys()))\n",
    "print('items in DNA dataset: ', len(DNA_dataset.keys()))\n",
    "print('items in prot dataset: ', len(prot_dataset.keys()))\n",
    "\n",
    "RNA_count = 0\n",
    "for key, value in RNA_dataset.items():\n",
    "    RNA_count += len(value.keys())\n",
    "print('RNA count: ', RNA_count)\n",
    "\n",
    "DNA_count = 0\n",
    "for key, value in DNA_dataset.items():\n",
    "    DNA_count += len(value.keys())\n",
    "print('DNA count: ', DNA_count)\n",
    "\n",
    "prot_count = 0\n",
    "for key, value in prot_dataset.items():\n",
    "    prot_count += len(value.keys())\n",
    "print('prot count: ', prot_count)\n",
    "\n",
    "## save to json file ##\n",
    "with open(root_dir + '../Data/RNA_dataset.json', 'w') as file:\n",
    "    json.dump(RNA_dataset, file)\n",
    "with open(root_dir + '../Data/DNA_dataset.json', 'w') as file:\n",
    "    json.dump(DNA_dataset, file)\n",
    "with open(root_dir + '../Data/prot_dataset.json', 'w') as file:\n",
    "    json.dump(prot_dataset, file)"
   ]
  },
  {
   "cell_type": "code",
   "execution_count": 8,
   "metadata": {},
   "outputs": [
    {
     "name": "stdout",
     "output_type": "stream",
     "text": [
      "Mean Length: 26.900158793171894\n",
      "Median Length: 16\n",
      "Standard Deviation: 25.036372032465586\n"
     ]
    },
    {
     "data": {
      "image/png": "[encoded data removed]",
      "text/plain": [
       "<Figure size 300x200 with 1 Axes>"
      ]
     },
     "metadata": {},
     "output_type": "display_data"
    },
    {
     "name": "stdout",
     "output_type": "stream",
     "text": [
      "Mean Length: 17.436723580464008\n",
      "Median Length: 15\n",
      "Standard Deviation: 11.275555969068634\n"
     ]
    },
    {
     "data": {
      "image/png": "[encoded data removed]",
      "text/plain": [
       "<Figure size 300x200 with 1 Axes>"
      ]
     },
     "metadata": {},
     "output_type": "display_data"
    },
    {
     "name": "stdout",
     "output_type": "stream",
     "text": [
      "#RNA within cutoff:  5038\n",
      "#DNA within cutoff:  17629\n",
      "#positive seq:  22667\n"
     ]
    }
   ],
   "source": [
    "\n",
    "with open('../Data/RNA_dataset.json', 'r') as file:\n",
    "    RNA_dataset = json.load(file)\n",
    "with open('../Data/DNA_dataset.json', 'r') as file:\n",
    "    DNA_dataset = json.load(file)\n",
    "\n",
    "## check the length distribution of RNA and DNA ##\n",
    "import matplotlib.pyplot as plt\n",
    "\n",
    "RNA_lengths = []\n",
    "DNA_lengths = []\n",
    "len_cutoff = 100\n",
    "positive_seq = []\n",
    "\n",
    "for key, value in RNA_dataset.items():\n",
    "    for chain_id, seq in value.items():\n",
    "        length = len(seq)\n",
    "        if length > len_cutoff:\n",
    "            continue\n",
    "        RNA_lengths.append(length)\n",
    "        positive_seq.append(seq)\n",
    "for key, value in DNA_dataset.items():\n",
    "    for chain_id, seq in value.items():\n",
    "        length = len(seq)\n",
    "        if length > len_cutoff:\n",
    "            continue\n",
    "        DNA_lengths.append(length)\n",
    "        positive_seq.append(seq)\n",
    "\n",
    "def plot_distribution(lengths, title):\n",
    "    mean_length = sum(lengths) / len(lengths)\n",
    "    median_length = sorted(lengths)[len(lengths) // 2]\n",
    "    std_dev_length = (sum([(x - mean_length) ** 2 for x in lengths]) / len(lengths)) ** 0.5\n",
    "\n",
    "    print(f\"Mean Length: {mean_length}\")\n",
    "    print(f\"Median Length: {median_length}\")\n",
    "    print(f\"Standard Deviation: {std_dev_length}\")\n",
    "\n",
    "    plt.figure(figsize=(3, 2))\n",
    "    plt.hist(lengths, bins=20)\n",
    "    plt.title(title)\n",
    "    plt.xlabel('Length')\n",
    "    plt.ylabel('Frequency')\n",
    "    plt.show()\n",
    "\n",
    "plot_distribution(RNA_lengths, 'RNA Length Distribution')\n",
    "plot_distribution(DNA_lengths, 'DNA Length Distribution')\n",
    "print('#RNA within cutoff: ', len(RNA_lengths))\n",
    "print('#DNA within cutoff: ', len(DNA_lengths))\n",
    "print('#positive seq: ', len(positive_seq))"
   ]
  },
  {
   "cell_type": "code",
   "execution_count": 58,
   "metadata": {},
   "outputs": [
    {
     "name": "stdout",
     "output_type": "stream",
     "text": [
      "#negative seq:  14600\n"
     ]
    }
   ],
   "source": [
    "## reverse translate protein sequence to RNA sequence as negative sample ##\n",
    "\n",
    "with open('../Data/prot_dataset.json', 'r') as file:\n",
    "    prot_dataset = json.load(file)\n",
    "\n",
    "rev_translation_RNA_dataset = {}\n",
    "negative_seq = []\n",
    "len_cutoff = 10 ## cutoff for protein length, as the mean length of RNA is about 25\n",
    "sample_num = 2 ## how many negative samples to generate for each long protein sequence\n",
    "\n",
    "mean_length = 7\n",
    "std_length = 5\n",
    "\n",
    "for key, value in prot_dataset.items():\n",
    "    for chain_id, seq in value.items():\n",
    "        selected_seq = []\n",
    "        if '-' in seq: ## skip the sequence with gap\n",
    "            continue\n",
    "\n",
    "        if len(seq) < len_cutoff:\n",
    "            selected_seq.append(seq)\n",
    "        elif len(seq) > len_cutoff*6:\n",
    "            seq_len = int(np.random.normal(mean_length, std_length))\n",
    "            if seq_len <= 0:\n",
    "                continue\n",
    "            selected_seq.extend(random_substring(seq, seq_len, sample_num))\n",
    "        \n",
    "        for prot in selected_seq:\n",
    "            RNA_seq = reverse_translate(prot)\n",
    "            negative_seq.append(RNA_seq)\n",
    "        '''\n",
    "        if key not in rev_translation_RNA_dataset:\n",
    "            rev_translation_RNA_dataset[key] = []\n",
    "        rev_translation_RNA_dataset[key].append(RNA_seq)\n",
    "        negative_seq.append(RNA_seq)\n",
    "        '''\n",
    "print('#negative seq: ', len(negative_seq))"
   ]
  },
  {
   "cell_type": "code",
   "execution_count": 59,
   "metadata": {},
   "outputs": [
    {
     "name": "stdout",
     "output_type": "stream",
     "text": [
      "Mean Length: 19.540080292936867\n",
      "Median Length: 15\n",
      "Standard Deviation: 15.927304216041064\n"
     ]
    },
    {
     "data": {
      "image/png": "[encoded data removed]",
      "text/plain": [
       "<Figure size 300x200 with 1 Axes>"
      ]
     },
     "metadata": {},
     "output_type": "display_data"
    },
    {
     "name": "stdout",
     "output_type": "stream",
     "text": [
      "Mean Length: 22.469794520547946\n",
      "Median Length: 21\n",
      "Standard Deviation: 12.470580940712994\n"
     ]
    },
    {
     "data": {
      "image/png": "[encoded data removed]",
      "text/plain": [
       "<Figure size 300x200 with 1 Axes>"
      ]
     },
     "metadata": {},
     "output_type": "display_data"
    }
   ],
   "source": [
    "len_pos = [len(seq) for seq in positive_seq]\n",
    "len_neg = [len(seq) for seq in negative_seq]\n",
    "\n",
    "plot_distribution(len_pos, 'positive seq Length Distribution')\n",
    "plot_distribution(len_neg, 'negative seq Length Distribution')"
   ]
  },
  {
   "cell_type": "code",
   "execution_count": 60,
   "metadata": {},
   "outputs": [],
   "source": [
    "## save positive and negative dataset to json file ##\n",
    "with open('../Data/positive_seq.json', 'w') as file:\n",
    "    json.dump(positive_seq, file)\n",
    "with open('../Data/negative_seq.json', 'w') as file:\n",
    "    json.dump(negative_seq, file)"
   ]
  }
 ],
 "metadata": {
  "kernelspec": {
   "display_name": "liyao_env",
   "language": "python",
   "name": "python3"
  },
  "language_info": {
   "codemirror_mode": {
    "name": "ipython",
    "version": 3
   },
   "file_extension": ".py",
   "mimetype": "text/x-python",
   "name": "python",
   "nbconvert_exporter": "python",
   "pygments_lexer": "ipython3",
   "version": "3.11.6"
  }
 },
 "nbformat": 4,
 "nbformat_minor": 2
}
